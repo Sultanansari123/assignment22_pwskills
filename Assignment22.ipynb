{
 "cells": [
  {
   "cell_type": "markdown",
   "id": "11be1159-6b63-4432-913a-86814105ad4a",
   "metadata": {},
   "source": [
    "# Ans1-"
   ]
  },
  {
   "cell_type": "code",
   "execution_count": 1,
   "id": "ea7ac0dd-7d25-4599-b29a-de2e931c6a06",
   "metadata": {},
   "outputs": [
    {
     "name": "stdout",
     "output_type": "stream",
     "text": [
      "Pearson Correlation Coefficient: 0.67\n"
     ]
    }
   ],
   "source": [
    "import numpy as np\n",
    "from scipy.stats import pearsonr\n",
    "\n",
    "# Hypothetical data\n",
    "study_time = [10, 15, 8, 12, 18]\n",
    "exam_scores = [75, 80, 65, 90, 85]\n",
    "\n",
    "# Calculate Pearson correlation coefficient\n",
    "correlation_coefficient, _ = pearsonr(study_time, exam_scores)\n",
    "\n",
    "print(f\"Pearson Correlation Coefficient: {correlation_coefficient:.2f}\")\n"
   ]
  },
  {
   "cell_type": "markdown",
   "id": "8059a56c-9b46-404e-ae18-624213d63ac9",
   "metadata": {},
   "source": [
    "# Ans2-"
   ]
  },
  {
   "cell_type": "code",
   "execution_count": 2,
   "id": "48dd02c1-e030-4b3c-bbf1-d39ae2d4fd73",
   "metadata": {},
   "outputs": [
    {
     "name": "stdout",
     "output_type": "stream",
     "text": [
      "Spearman's Rank Correlation Coefficient: 0.80\n"
     ]
    }
   ],
   "source": [
    "import numpy as np\n",
    "from scipy.stats import spearmanr\n",
    "\n",
    "# Hypothetical data\n",
    "sleep_hours = [7, 5, 8, 6, 9]\n",
    "job_satisfaction = [8, 6, 7, 5, 9]\n",
    "\n",
    "# Calculate Spearman's rank correlation coefficient\n",
    "correlation_coefficient, _ = spearmanr(sleep_hours, job_satisfaction)\n",
    "\n",
    "print(f\"Spearman's Rank Correlation Coefficient: {correlation_coefficient:.2f}\")\n"
   ]
  },
  {
   "cell_type": "markdown",
   "id": "7ca9938f-6da6-433c-9602-0f2e98d36f48",
   "metadata": {},
   "source": [
    "# Ans3-"
   ]
  },
  {
   "cell_type": "code",
   "execution_count": 3,
   "id": "9909692c-d53c-4a8e-bfcc-9d1e3b0ef0eb",
   "metadata": {},
   "outputs": [
    {
     "name": "stdout",
     "output_type": "stream",
     "text": [
      "Pearson Correlation Coefficient: -0.14\n",
      "Spearman's Rank Correlation Coefficient: -0.19\n"
     ]
    }
   ],
   "source": [
    "import numpy as np\n",
    "from scipy.stats import pearsonr, spearmanr\n",
    "\n",
    "# Hypothetical data\n",
    "hours_of_exercise = np.random.randint(1, 10, 50)  # Random hours of exercise per week\n",
    "bmi = np.random.normal(25, 5, 50)  # Random BMI data with a mean of 25 and standard deviation of 5\n",
    "\n",
    "# Calculate Pearson correlation coefficient\n",
    "pearson_corr, _ = pearsonr(hours_of_exercise, bmi)\n",
    "\n",
    "# Calculate Spearman's rank correlation coefficient\n",
    "spearman_corr, _ = spearmanr(hours_of_exercise, bmi)\n",
    "\n",
    "# Print the results\n",
    "print(f\"Pearson Correlation Coefficient: {pearson_corr:.2f}\")\n",
    "print(f\"Spearman's Rank Correlation Coefficient: {spearman_corr:.2f}\")\n"
   ]
  },
  {
   "cell_type": "markdown",
   "id": "0c1ca0bd-c4bc-47e9-9fb9-b36323f99100",
   "metadata": {},
   "source": [
    "Keep in mind that the interpretation of correlation coefficients depends on the context of your study."
   ]
  },
  {
   "cell_type": "markdown",
   "id": "b5d20db6-e4f3-4003-b44f-62cda0289400",
   "metadata": {},
   "source": [
    "# Ans4-"
   ]
  },
  {
   "cell_type": "code",
   "execution_count": 4,
   "id": "d2171e01-3979-42bd-b760-91765e2a47ac",
   "metadata": {},
   "outputs": [
    {
     "name": "stdout",
     "output_type": "stream",
     "text": [
      "Pearson Correlation Coefficient: 0.04\n"
     ]
    }
   ],
   "source": [
    "import numpy as np\n",
    "from scipy.stats import pearsonr\n",
    "\n",
    "# Hypothetical data\n",
    "tv_hours = np.random.randint(1, 6, 50)  # Random hours of TV watching per day\n",
    "physical_activity = np.random.randint(1, 11, 50)  # Random level of physical activity on a scale of 1 to 10\n",
    "\n",
    "# Calculate Pearson correlation coefficient\n",
    "pearson_corr, _ = pearsonr(tv_hours, physical_activity)\n",
    "\n",
    "# Print the result\n",
    "print(f\"Pearson Correlation Coefficient: {pearson_corr:.2f}\")\n"
   ]
  },
  {
   "cell_type": "markdown",
   "id": "e91657c8-6184-4aea-9036-aa99f802108f",
   "metadata": {},
   "source": [
    "# Ans5-"
   ]
  },
  {
   "cell_type": "markdown",
   "id": "2af62760-69b4-46be-8305-2d7011f3d289",
   "metadata": {},
   "source": [
    "# Ans6-"
   ]
  },
  {
   "cell_type": "code",
   "execution_count": 5,
   "id": "27eebd56-d113-49f8-92e1-6eb8bb1160df",
   "metadata": {},
   "outputs": [
    {
     "name": "stdout",
     "output_type": "stream",
     "text": [
      "Pearson correlation coefficient: 0.9794696045497864\n"
     ]
    }
   ],
   "source": [
    "import numpy as np\n",
    "\n",
    "# Example data (replace with your actual data)\n",
    "sales_calls = [10, 12, 8, 15, 11, 9, 14, 13, 10, 12, 11, 10, 8, 15, 14, 13, 12, 9, 11, 10, 12, 8, 15, 11, 9, 14, 13, 10, 12, 11]\n",
    "sales_made = [5, 7, 4, 9, 6, 5, 8, 7, 6, 7, 6, 5, 4, 9, 8, 7, 7, 5, 6, 5, 7, 4, 9, 6, 5, 8, 7, 6, 7, 6]\n",
    "\n",
    "# Calculate the Pearson correlation coefficient\n",
    "correlation_coefficient = np.corrcoef(sales_calls, sales_made)[0, 1]\n",
    "\n",
    "print(\"Pearson correlation coefficient:\", correlation_coefficient)\n"
   ]
  },
  {
   "cell_type": "code",
   "execution_count": null,
   "id": "c8bf740c-c6b7-4fa8-ae89-419a8b40e433",
   "metadata": {},
   "outputs": [],
   "source": []
  }
 ],
 "metadata": {
  "kernelspec": {
   "display_name": "Python 3 (ipykernel)",
   "language": "python",
   "name": "python3"
  },
  "language_info": {
   "codemirror_mode": {
    "name": "ipython",
    "version": 3
   },
   "file_extension": ".py",
   "mimetype": "text/x-python",
   "name": "python",
   "nbconvert_exporter": "python",
   "pygments_lexer": "ipython3",
   "version": "3.10.8"
  }
 },
 "nbformat": 4,
 "nbformat_minor": 5
}
